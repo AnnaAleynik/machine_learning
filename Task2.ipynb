{
  "nbformat": 4,
  "nbformat_minor": 0,
  "metadata": {
    "colab": {
      "provenance": [],
      "collapsed_sections": [],
      "authorship_tag": "ABX9TyOxRJpzPzJ86NIoK4MreTKz",
      "include_colab_link": true
    },
    "kernelspec": {
      "name": "python3",
      "display_name": "Python 3"
    },
    "language_info": {
      "name": "python"
    }
  },
  "cells": [
    {
      "cell_type": "markdown",
      "metadata": {
        "id": "view-in-github",
        "colab_type": "text"
      },
      "source": [
        "<a href=\"https://colab.research.google.com/github/AnnaAleynik/machine_learning/blob/main/Task2.ipynb\" target=\"_parent\"><img src=\"https://colab.research.google.com/assets/colab-badge.svg\" alt=\"Open In Colab\"/></a>"
      ]
    },
    {
      "cell_type": "code",
      "execution_count": 1,
      "metadata": {
        "id": "_A849ZPdcQ3o"
      },
      "outputs": [],
      "source": [
        "import matplotlib.pyplot as plt\n",
        "from random import randrange\n",
        "import numpy as np\n",
        "from sklearn.datasets import make_blobs\n",
        "import matplotlib.colors as mcolors"
      ]
    },
    {
      "cell_type": "markdown",
      "source": [
        "Находим общий центр тяжести. Использвуя его и окружность, находим центроиды. Строим вокруг каждого кластер: определяем для каждой точки ближайший центроид.\n",
        "Для каждого кластера повторяем, сдвигаем центроиды, пересчитываем ближайшие"
      ],
      "metadata": {
        "id": "wDBJ8JCOjdJT"
      }
    },
    {
      "cell_type": "markdown",
      "source": [
        "\n",
        "\n",
        "---\n",
        "\n"
      ],
      "metadata": {
        "id": "BgVBww3FUvSq"
      }
    },
    {
      "cell_type": "code",
      "source": [
        "def random_points(n):\n",
        "  points = []\n",
        "  points = make_blobs(n)\n",
        "  return points[0]"
      ],
      "metadata": {
        "id": "Gkc5-eYuUuOM"
      },
      "execution_count": 2,
      "outputs": []
    },
    {
      "cell_type": "code",
      "source": [
        "def dist(point1, point2):\n",
        "  return np.sqrt((point1[0]-point2[0])**2 +(point1[1]-point2[1])**2)"
      ],
      "metadata": {
        "id": "7ushgojiSdpr"
      },
      "execution_count": 3,
      "outputs": []
    },
    {
      "cell_type": "code",
      "source": [
        "def draw(points, color):\n",
        "  plt.scatter(points[:,0], points[:,1], color=color)\n",
        "  plt.draw()\n",
        "  # plt.pause(.001)"
      ],
      "metadata": {
        "id": "E5n-roPvWfNa"
      },
      "execution_count": 4,
      "outputs": []
    },
    {
      "cell_type": "code",
      "source": [
        "def draw_centroids(points):\n",
        "  xs = []\n",
        "  ys = []\n",
        "  for i in points:\n",
        "    xs.append(i[0])\n",
        "    ys.append(i[1])\n",
        "  plt.scatter(xs, ys, color='black', marker=\"+\")\n",
        "  plt.draw()\n",
        "  # plt.pause(.001)\n"
      ],
      "metadata": {
        "id": "xBaFhT1nXL0p"
      },
      "execution_count": 5,
      "outputs": []
    },
    {
      "cell_type": "code",
      "source": [
        "def draw_clusters(clusters):\n",
        "  COLORS = list(mcolors.CSS4_COLORS.values())\n",
        "  colors = ['red','green','yellow','magenta','cyan','grey','#f03a09']\n",
        "\n",
        "  for key, value in clusters.items():\n",
        "    xs = []\n",
        "    ys = []\n",
        "    for i in value:\n",
        "      xs.append(i[0])\n",
        "      ys.append(i[1])\n",
        "    plt.scatter(xs, ys, color=colors[key])\n",
        "    plt.draw()"
      ],
      "metadata": {
        "id": "psHeeLw6cn05"
      },
      "execution_count": 6,
      "outputs": []
    },
    {
      "cell_type": "code",
      "source": [
        "def init_centroids(points, cluster_count):\n",
        "  x_avg = 0\n",
        "  # x_avg = np.average(points[:,0])\n",
        "  y_avg = 0\n",
        "  # y_avg = np.average(points[:,1])\n",
        "\n",
        "  for i in points:\n",
        "      x_avg += i[0]\n",
        "      y_avg += i[1]\n",
        "  x_avg = x_avg / len(points)\n",
        "  y_avg = y_avg / len(points)\n",
        "\n",
        "  R = 0\n",
        "  for i in range(len(points)): \n",
        "      distance = dist(points[i], [x_avg, y_avg]) \n",
        "      if R < distance: \n",
        "          R = distance \n",
        "  centroids = []\n",
        "  for i in range(cluster_count): \n",
        "      x_c = R * np.cos(2 * np.pi * i / cluster_count) + x_avg\n",
        "      y_c = R * np.sin(2 * np.pi * i / cluster_count) + y_avg\n",
        "      centroids.append([x_c, y_c]) \n",
        "  return centroids"
      ],
      "metadata": {
        "id": "8bDPPBYlcUww"
      },
      "execution_count": 7,
      "outputs": []
    },
    {
      "cell_type": "code",
      "source": [
        "def centroid(points):\n",
        "  x_avg = 0\n",
        "  # x_avg = np.average(points[:,0])\n",
        "  y_avg = 0\n",
        "  # y_avg = np.average(points[:,1])\n",
        "\n",
        "  for i in points:\n",
        "    x_avg += i[0]\n",
        "    y_avg += i[1]\n",
        "  x_avg = x_avg / len(points)\n",
        "  y_avg = y_avg / len(points)\n",
        "\n",
        "  return [x_avg, y_avg] "
      ],
      "metadata": {
        "id": "44XHtu8NR5sX"
      },
      "execution_count": 8,
      "outputs": []
    },
    {
      "cell_type": "code",
      "source": [
        "# clusters = {\n",
        "#     0: [[0,0], [0,1]],\n",
        "#     1: [[1,0], [1,1]]\n",
        "# }\n",
        "def nearest_centroids(points, centroids):\n",
        "  clusters = {} \n",
        "  for i in range(len(centroids)): \n",
        "      clusters[i] = []\n",
        "  \n",
        "  for i in range(len(points)): \n",
        "      points_range = [] \n",
        "      for j in range(len(centroids)):\n",
        "          points_range.append(dist(points[i], centroids[j])) \n",
        "      index = points_range.index(min(points_range))\n",
        "      clusters[index].append(points[i]) \n",
        "  return clusters \n"
      ],
      "metadata": {
        "id": "r9ZJKuyZbsUz"
      },
      "execution_count": 9,
      "outputs": []
    },
    {
      "cell_type": "markdown",
      "source": [
        "Для каждого кластера найти новый центроид. Найти ближайший новый центроид для каждой точки, отследить переход точки в новый кластер или закрепление точки в кластере. Повторять, пока не будет переходов.\n",
        "\n",
        "Потом нужно найти опитмальный k."
      ],
      "metadata": {
        "id": "ANoCjkYWWVX_"
      }
    },
    {
      "cell_type": "markdown",
      "source": [
        "Пока новые центры для каждой точки не будут повторяться\n"
      ],
      "metadata": {
        "id": "XKpjbekldRkB"
      }
    },
    {
      "cell_type": "code",
      "source": [
        "def compare_clusters(centroids, new_centroids,clusters, new_clusters):\n",
        "  for i in range(len(new_centroids)):\n",
        "    if new_centroids[i] != centroids[i]:\n",
        "      return False\n",
        "  for key in clusters.keys():\n",
        "    if np.allclose(clusters[key], new_clusters[key]) == False:\n",
        "      return False\n",
        "  return True"
      ],
      "metadata": {
        "id": "ket1wWiCm-Hu"
      },
      "execution_count": 10,
      "outputs": []
    },
    {
      "cell_type": "code",
      "source": [
        "def sum_dist_points_clusters(centroids, clusters):\n",
        "  sum_dist = 0\n",
        "  for key, value in clusters.items():\n",
        "    for point in value:\n",
        "      sum_dist += dist(centroids[key], point)\n",
        "  return sum_dist"
      ],
      "metadata": {
        "id": "3-twp5yQuKz-"
      },
      "execution_count": 15,
      "outputs": []
    },
    {
      "cell_type": "code",
      "source": [
        "def sum_distance_by_cluster_count(points):\n",
        "  sum_distances = {1: 0, 2: 0, 3: 0, 4: 0, 5: 0}\n",
        "  for k in range(1, 6):\n",
        "    centroids = init_centroids(points, k)\n",
        "    clusters = nearest_centroids(points, centroids)\n",
        "\n",
        "    if [] in clusters.values():\n",
        "      return sum_distances\n",
        "\n",
        "    prev_centroids = centroids\n",
        "    prev_clusters = clusters\n",
        "\n",
        "    centroids = []\n",
        "    for key, value in clusters.items():\n",
        "      centroids.append(centroid(value))\n",
        "    clusters = nearest_centroids(points, centroids)\n",
        "\n",
        "    while compare_clusters(prev_centroids, centroids, prev_clusters, clusters) == False:\n",
        "      prev_centroids = centroids\n",
        "      prev_clusters = clusters\n",
        "\n",
        "      centroids = []\n",
        "      for key, value in clusters.items():\n",
        "        centroids.append(centroid(value))\n",
        "      clusters = nearest_centroids(points, centroids)\n",
        "    sum_distances[k] = sum_dist_points_clusters(centroids, clusters)\n",
        "  return sum_distances"
      ],
      "metadata": {
        "id": "xdtHEz4nxtBr"
      },
      "execution_count": 18,
      "outputs": []
    },
    {
      "cell_type": "code",
      "source": [
        "def optimal_cluster_count(distances):\n",
        "  min_d = 10000\n",
        "  min_key = 0\n",
        "\n",
        "  if len(distances.keys()) < 5:\n",
        "    return len(distances.keys())\n",
        "\n",
        "  for key in distances.keys():\n",
        "    if key == 1 or key == len(distances.keys()):\n",
        "      continue \n",
        "    d = (abs(distances[key] - distances[key+1]))/(abs(distances[key-1] - distances[key]))\n",
        "    if d < min_d:\n",
        "      min_d = d\n",
        "      min_key = key\n",
        "  return min_key"
      ],
      "metadata": {
        "id": "dIiuLEiQ_1fX"
      },
      "execution_count": 13,
      "outputs": []
    },
    {
      "cell_type": "code",
      "source": [
        "N = 100\n",
        "\n",
        "points = random_points(N)\n",
        "\n",
        "points = random_points(100)\n",
        "distances = sum_distance_by_cluster_count(points)\n",
        "plt.scatter(distances.keys(), distances.values())\n",
        "plt.show()\n",
        "\n",
        "k = optimal_cluster_count(distances)\n",
        "print(\"Cluster count: \", k)\n",
        "centroids = init_centroids(points, k)\n",
        "draw(points, 'blue')\n",
        "plt.show()\n",
        "clusters = nearest_centroids(points, centroids)\n",
        "\n",
        "draw_clusters(clusters)\n",
        "draw_centroids(centroids)\n",
        "plt.show()\n",
        "\n",
        "prev_centroids = centroids\n",
        "prev_clusters = clusters\n",
        "\n",
        "centroids = []\n",
        "\n",
        "\n",
        "for key, value in clusters.items():\n",
        "  centroids.append(centroid(value))\n",
        "clusters = nearest_centroids(points, centroids)\n",
        "draw_clusters(clusters)\n",
        "draw_centroids(centroids)\n",
        "plt.show()\n",
        "\n",
        "i = 0\n",
        "while compare_clusters(prev_centroids, centroids, prev_clusters, clusters) == False:\n",
        "\n",
        "  i += 1\n",
        "  prev_centroids = centroids\n",
        "  prev_clusters = clusters\n",
        "\n",
        "  centroids = []\n",
        "  for key, value in clusters.items():\n",
        "    centroids.append(centroid(value))\n",
        "  clusters = nearest_centroids(points, centroids)\n",
        "  draw_clusters(clusters)\n",
        "  draw_centroids(centroids)\n",
        "  plt.show()\n"
      ],
      "metadata": {
        "colab": {
          "base_uri": "https://localhost:8080/",
          "height": 1000
        },
        "id": "lfi1c-FEV_4L",
        "outputId": "376f9a43-b39b-448d-9b19-41e8813493e2"
      },
      "execution_count": 19,
      "outputs": [
        {
          "output_type": "display_data",
          "data": {
            "text/plain": [
              "<Figure size 432x288 with 1 Axes>"
            ],
            "image/png": "[encoded data removed]"
          },
          "metadata": {
            "needs_background": "light"
          }
        },
        {
          "output_type": "stream",
          "name": "stdout",
          "text": [
            "Cluster count:  3\n"
          ]
        },
        {
          "output_type": "display_data",
          "data": {
            "text/plain": [
              "<Figure size 432x288 with 1 Axes>"
            ],
            "image/png": "[encoded data removed]"
          },
          "metadata": {
            "needs_background": "light"
          }
        },
        {
          "output_type": "display_data",
          "data": {
            "text/plain": [
              "<Figure size 432x288 with 1 Axes>"
            ],
            "image/png": "[encoded data removed]"
          },
          "metadata": {
            "needs_background": "light"
          }
        },
        {
          "output_type": "display_data",
          "data": {
            "text/plain": [
              "<Figure size 432x288 with 1 Axes>"
            ],
            "image/png": "[encoded data removed]"
          },
          "metadata": {
            "needs_background": "light"
          }
        },
        {
          "output_type": "display_data",
          "data": {
            "text/plain": [
              "<Figure size 432x288 with 1 Axes>"
            ],
            "image/png": "[encoded data removed]"
          },
          "metadata": {
            "needs_background": "light"
          }
        }
      ]
    }
  ]
}